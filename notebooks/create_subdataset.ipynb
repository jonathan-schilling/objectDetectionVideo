{
 "cells": [
  {
   "cell_type": "code",
   "execution_count": null,
   "id": "183a3fdc-601d-4c6e-a7d4-62465f841762",
   "metadata": {},
   "outputs": [],
   "source": [
    "import json"
   ]
  },
  {
   "cell_type": "code",
   "execution_count": null,
   "id": "94333c48-1b8d-488f-8414-3ae2985da683",
   "metadata": {},
   "outputs": [],
   "source": [
    "from pathlib import Path\n",
    "\n",
    "DATA_BASE_DIR = Path('C:/Users/Jonathan/Documents/Development/git/gitlab/projectpr/data')\n",
    "LABEL_DIR = Path('interim/labels')\n",
    "LABEL_FORMAT = '.json'"
   ]
  },
  {
   "cell_type": "code",
   "execution_count": null,
   "id": "b50806d0-32f4-40cc-a68a-48a776ab8610",
   "metadata": {},
   "outputs": [],
   "source": [
    "label_file_input = 'ascent_1000'\n",
    "label_file_output = 'ascent_500'\n",
    "part = 0.5"
   ]
  },
  {
   "cell_type": "code",
   "execution_count": null,
   "id": "c719a083-7d2f-4e57-acc1-93c1b35b67ec",
   "metadata": {},
   "outputs": [],
   "source": [
    "with open(DATA_BASE_DIR / LABEL_DIR / (label_file_input + LABEL_FORMAT)) as input_labels:\n",
    "    parsed_json = json.load(input_labels)"
   ]
  },
  {
   "cell_type": "code",
   "execution_count": null,
   "id": "724ab0fb-695c-470a-9f0c-b39f8774c314",
   "metadata": {},
   "outputs": [],
   "source": [
    "new_lbls = []\n",
    "\n",
    "c = 0\n",
    "for img_lbl in parsed_json:\n",
    "    if c == int(1/part)-1:\n",
    "        new_lbls.append(img_lbl)\n",
    "        c = 0\n",
    "    else:\n",
    "        c += 1"
   ]
  },
  {
   "cell_type": "code",
   "execution_count": null,
   "id": "ff7b66fa-a045-4508-aae1-64243c56f479",
   "metadata": {},
   "outputs": [],
   "source": [
    "with open(DATA_BASE_DIR / LABEL_DIR / (label_file_output + LABEL_FORMAT), 'w') as output_labels:\n",
    "    output_labels.write(json.dumps(new_lbls, indent=2))"
   ]
  },
  {
   "cell_type": "code",
   "execution_count": null,
   "id": "3f156487-7a47-4943-9387-088d2996d1ee",
   "metadata": {},
   "outputs": [],
   "source": []
  }
 ],
 "metadata": {
  "kernelspec": {
   "display_name": "Python 3 (ipykernel)",
   "language": "python",
   "name": "python3"
  },
  "language_info": {
   "codemirror_mode": {
    "name": "ipython",
    "version": 3
   },
   "file_extension": ".py",
   "mimetype": "text/x-python",
   "name": "python",
   "nbconvert_exporter": "python",
   "pygments_lexer": "ipython3",
   "version": "3.10.13"
  }
 },
 "nbformat": 4,
 "nbformat_minor": 5
}
